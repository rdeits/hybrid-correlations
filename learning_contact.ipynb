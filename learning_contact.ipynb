{
 "cells": [
  {
   "cell_type": "code",
   "execution_count": 3,
   "metadata": {
    "collapsed": false
   },
   "outputs": [
    {
     "data": {
      "text/plain": [
       "Plots.GRBackend()"
      ]
     },
     "execution_count": 3,
     "metadata": {},
     "output_type": "execute_result"
    }
   ],
   "source": [
    "using AxisArrays\n",
    "using JuMP\n",
    "using ProgressMeter\n",
    "using Plots\n",
    "gr()"
   ]
  },
  {
   "cell_type": "code",
   "execution_count": 90,
   "metadata": {
    "collapsed": true
   },
   "outputs": [],
   "source": [
    "using MLDataPattern"
   ]
  },
  {
   "cell_type": "code",
   "execution_count": 93,
   "metadata": {
    "collapsed": false
   },
   "outputs": [
    {
     "name": "stderr",
     "output_type": "stream",
     "text": [
      "WARNING: redefining constant SVC\n"
     ]
    },
    {
     "data": {
      "text/plain": [
       "PyObject <class 'sklearn.svm.classes.SVC'>"
      ]
     },
     "execution_count": 93,
     "metadata": {},
     "output_type": "execute_result"
    }
   ],
   "source": [
    "using ScikitLearn\n",
    "@sk_import svm: SVC"
   ]
  },
  {
   "cell_type": "code",
   "execution_count": 126,
   "metadata": {
    "collapsed": false
   },
   "outputs": [
    {
     "name": "stderr",
     "output_type": "stream",
     "text": [
      "WARNING: Method definition predict(Float64, Any) in module Main at In[122]:1 overwritten at In[126]:1.\n"
     ]
    }
   ],
   "source": [
    "ScikitLearn.predict(x::Float64, data) = x"
   ]
  },
  {
   "cell_type": "code",
   "execution_count": 133,
   "metadata": {
    "collapsed": false
   },
   "outputs": [
    {
     "name": "stderr",
     "output_type": "stream",
     "text": [
      "WARNING: replacing module MPC\n"
     ]
    },
    {
     "data": {
      "text/plain": [
       "MPC"
      ]
     },
     "execution_count": 133,
     "metadata": {},
     "output_type": "execute_result"
    }
   ],
   "source": [
    "include(\"mpc.jl\")"
   ]
  },
  {
   "cell_type": "code",
   "execution_count": 195,
   "metadata": {
    "collapsed": false
   },
   "outputs": [],
   "source": [
    "Δt = 0.1\n",
    "\n",
    "# m = 1.\n",
    "# l = 1.\n",
    "# g = 10.\n",
    "# A = [0. 1.;\n",
    "#     g/l 0.]\n",
    "# B = [0. 1/(m*l^2.)]'\n",
    "# sys = MPC.discretize(MPC.CTLinearSytstem(A, B), Δt)\n",
    "sys = MPC.discretize(MPC.CTLinearSytstem([0. 1; 0 0], [0. 1]'), 0.1)\n",
    "\n",
    "N = 20\n",
    "time = Axis{:time}(linspace(0, (N - 1) * Δt, N))\n",
    "side = Axis{:side}([:left, :right])\n",
    "model = MPC.create_model(sys, time, side);"
   ]
  },
  {
   "cell_type": "code",
   "execution_count": 205,
   "metadata": {
    "collapsed": false
   },
   "outputs": [
    {
     "data": {
      "text/html": [
       "<?xml version=\"1.0\" encoding=\"utf-8\"?>\n",
       "<svg xmlns=\"http://www.w3.org/2000/svg\" xmlns:xlink=\"http://www.w3.org/1999/xlink\" width=\"600\" height=\"400\" viewBox=\"0 0 600 400\">\n",
       "<defs>\n",
       "  <clipPath id=\"clip00\">\n",
       "    <rect x=\"0\" y=\"0\" width=\"600\" height=\"400\"/>\n",
       "  </clipPath>\n",
       "</defs>\n",
       "<polygon clip-path=\"url(#clip00)\" points=\"\n",
       "0,400 600,400 600,0 0,0 \n",
       "  \" fill=\"#ffffff\" fill-opacity=\"1\"/>\n",
       "<defs>\n",
       "  <clipPath id=\"clip01\">\n",
       "    <rect x=\"120\" y=\"0\" width=\"421\" height=\"400\"/>\n",
       "  </clipPath>\n",
       "</defs>\n",
       "<polygon clip-path=\"url(#clip00)\" points=\"\n",
       "36.9926,369.674 596.063,369.674 596.063,3.93701 36.9926,3.93701 \n",
       "  \" fill=\"#ffffff\" fill-opacity=\"1\"/>\n",
       "<defs>\n",
       "  <clipPath id=\"clip02\">\n",
       "    <rect x=\"36\" y=\"3\" width=\"560\" height=\"366\"/>\n",
       "  </clipPath>\n",
       "</defs>\n",
       "<polyline clip-path=\"url(#clip02)\" style=\"stroke:#00002d; stroke-width:0.8; stroke-opacity:0.5; fill:none\" stroke-dasharray=\"1, 2\" points=\"\n",
       "  36.9926,364.188 36.9926,9.42306 \n",
       "  \"/>\n",
       "<polyline clip-path=\"url(#clip02)\" style=\"stroke:#00002d; stroke-width:0.8; stroke-opacity:0.5; fill:none\" stroke-dasharray=\"1, 2\" points=\"\n",
       "  184.116,364.188 184.116,9.42306 \n",
       "  \"/>\n",
       "<polyline clip-path=\"url(#clip02)\" style=\"stroke:#00002d; stroke-width:0.8; stroke-opacity:0.5; fill:none\" stroke-dasharray=\"1, 2\" points=\"\n",
       "  331.24,364.188 331.24,9.42306 \n",
       "  \"/>\n",
       "<polyline clip-path=\"url(#clip02)\" style=\"stroke:#00002d; stroke-width:0.8; stroke-opacity:0.5; fill:none\" stroke-dasharray=\"1, 2\" points=\"\n",
       "  478.364,364.188 478.364,9.42306 \n",
       "  \"/>\n",
       "<polyline clip-path=\"url(#clip02)\" style=\"stroke:#00002d; stroke-width:0.8; stroke-opacity:0.5; fill:none\" stroke-dasharray=\"1, 2\" points=\"\n",
       "  45.3786,353.05 587.677,353.05 \n",
       "  \"/>\n",
       "<polyline clip-path=\"url(#clip02)\" style=\"stroke:#00002d; stroke-width:0.8; stroke-opacity:0.5; fill:none\" stroke-dasharray=\"1, 2\" points=\"\n",
       "  45.3786,186.806 587.677,186.806 \n",
       "  \"/>\n",
       "<polyline clip-path=\"url(#clip02)\" style=\"stroke:#00002d; stroke-width:0.8; stroke-opacity:0.5; fill:none\" stroke-dasharray=\"1, 2\" points=\"\n",
       "  45.3786,20.5614 587.677,20.5614 \n",
       "  \"/>\n",
       "<polyline clip-path=\"url(#clip02)\" style=\"stroke:#00002d; stroke-width:0.8; stroke-opacity:1; fill:none\" points=\"\n",
       "  36.9926,369.674 596.063,369.674 \n",
       "  \"/>\n",
       "<polyline clip-path=\"url(#clip02)\" style=\"stroke:#00002d; stroke-width:0.8; stroke-opacity:1; fill:none\" points=\"\n",
       "  36.9926,369.674 36.9926,364.188 \n",
       "  \"/>\n",
       "<polyline clip-path=\"url(#clip02)\" style=\"stroke:#00002d; stroke-width:0.8; stroke-opacity:1; fill:none\" points=\"\n",
       "  184.116,369.674 184.116,364.188 \n",
       "  \"/>\n",
       "<polyline clip-path=\"url(#clip02)\" style=\"stroke:#00002d; stroke-width:0.8; stroke-opacity:1; fill:none\" points=\"\n",
       "  331.24,369.674 331.24,364.188 \n",
       "  \"/>\n",
       "<polyline clip-path=\"url(#clip02)\" style=\"stroke:#00002d; stroke-width:0.8; stroke-opacity:1; fill:none\" points=\"\n",
       "  478.364,369.674 478.364,364.188 \n",
       "  \"/>\n",
       "<polyline clip-path=\"url(#clip02)\" style=\"stroke:#00002d; stroke-width:0.8; stroke-opacity:1; fill:none\" points=\"\n",
       "  36.9926,369.674 36.9926,3.93701 \n",
       "  \"/>\n",
       "<polyline clip-path=\"url(#clip02)\" style=\"stroke:#00002d; stroke-width:0.8; stroke-opacity:1; fill:none\" points=\"\n",
       "  36.9926,353.05 45.3786,353.05 \n",
       "  \"/>\n",
       "<polyline clip-path=\"url(#clip02)\" style=\"stroke:#00002d; stroke-width:0.8; stroke-opacity:1; fill:none\" points=\"\n",
       "  36.9926,186.806 45.3786,186.806 \n",
       "  \"/>\n",
       "<polyline clip-path=\"url(#clip02)\" style=\"stroke:#00002d; stroke-width:0.8; stroke-opacity:1; fill:none\" points=\"\n",
       "  36.9926,20.5614 45.3786,20.5614 \n",
       "  \"/>\n",
       "<g clip-path=\"url(#clip00)\">\n",
       "<text style=\"fill:#00002d; fill-opacity:1; font-family:Arial,Helvetica Neue,Helvetica,sans-serif; font-size:12; text-anchor:middle;\" transform=\"rotate(0, 36.9926, 381.674)\" x=\"36.9926\" y=\"381.674\">0.0</text>\n",
       "</g>\n",
       "<g clip-path=\"url(#clip00)\">\n",
       "<text style=\"fill:#00002d; fill-opacity:1; font-family:Arial,Helvetica Neue,Helvetica,sans-serif; font-size:12; text-anchor:middle;\" transform=\"rotate(0, 184.116, 381.674)\" x=\"184.116\" y=\"381.674\">0.5</text>\n",
       "</g>\n",
       "<g clip-path=\"url(#clip00)\">\n",
       "<text style=\"fill:#00002d; fill-opacity:1; font-family:Arial,Helvetica Neue,Helvetica,sans-serif; font-size:12; text-anchor:middle;\" transform=\"rotate(0, 331.24, 381.674)\" x=\"331.24\" y=\"381.674\">1.0</text>\n",
       "</g>\n",
       "<g clip-path=\"url(#clip00)\">\n",
       "<text style=\"fill:#00002d; fill-opacity:1; font-family:Arial,Helvetica Neue,Helvetica,sans-serif; font-size:12; text-anchor:middle;\" transform=\"rotate(0, 478.364, 381.674)\" x=\"478.364\" y=\"381.674\">1.5</text>\n",
       "</g>\n",
       "<g clip-path=\"url(#clip00)\">\n",
       "<text style=\"fill:#00002d; fill-opacity:1; font-family:Arial,Helvetica Neue,Helvetica,sans-serif; font-size:12; text-anchor:end;\" transform=\"rotate(0, 35.7926, 357.55)\" x=\"35.7926\" y=\"357.55\">-1</text>\n",
       "</g>\n",
       "<g clip-path=\"url(#clip00)\">\n",
       "<text style=\"fill:#00002d; fill-opacity:1; font-family:Arial,Helvetica Neue,Helvetica,sans-serif; font-size:12; text-anchor:end;\" transform=\"rotate(0, 35.7926, 191.306)\" x=\"35.7926\" y=\"191.306\">0</text>\n",
       "</g>\n",
       "<g clip-path=\"url(#clip00)\">\n",
       "<text style=\"fill:#00002d; fill-opacity:1; font-family:Arial,Helvetica Neue,Helvetica,sans-serif; font-size:12; text-anchor:end;\" transform=\"rotate(0, 35.7926, 25.0614)\" x=\"35.7926\" y=\"25.0614\">1</text>\n",
       "</g>\n",
       "<g clip-path=\"url(#clip00)\">\n",
       "<text style=\"fill:#00002d; fill-opacity:1; font-family:Arial,Helvetica Neue,Helvetica,sans-serif; font-size:16; text-anchor:middle;\" transform=\"rotate(0, 316.528, 397.6)\" x=\"316.528\" y=\"397.6\">time (s)</text>\n",
       "</g>\n",
       "<g clip-path=\"url(#clip00)\">\n",
       "<text style=\"fill:#00002d; fill-opacity:1; font-family:Arial,Helvetica Neue,Helvetica,sans-serif; font-size:16; text-anchor:middle;\" transform=\"rotate(-90, 14.4, 186.806)\" x=\"14.4\" y=\"186.806\">position</text>\n",
       "</g>\n",
       "<polyline clip-path=\"url(#clip02)\" style=\"stroke:#0099ff; stroke-width:0.8; stroke-opacity:1; fill:none\" points=\"\n",
       "  36.9926,73.8547 66.4173,91.5751 95.8421,109.295 125.267,127.016 154.692,144.736 184.116,162.457 213.541,178.493 242.966,191.175 272.391,200.72 301.815,207.54 \n",
       "  331.24,212.032 360.665,214.573 390.09,215.516 419.514,215.186 448.939,213.879 478.364,211.865 507.789,209.384 537.213,206.655 566.638,203.852 596.063,201.049 \n",
       "  \n",
       "  \"/>\n",
       "<polyline clip-path=\"url(#clip02)\" style=\"stroke:#e9746a; stroke-width:0.8; stroke-opacity:1; fill:none\" points=\"\n",
       "  36.9926,105.242 66.4173,146.544 95.8421,187.845 125.267,229.146 154.692,270.447 184.116,311.748 213.541,353.05 242.966,353.05 272.391,353.05 301.815,353.05 \n",
       "  331.24,353.05 360.665,353.05 390.09,353.05 419.514,353.05 448.939,353.05 478.364,353.05 507.789,353.05 537.213,353.05 566.638,353.05 596.063,353.05 \n",
       "  \n",
       "  \"/>\n",
       "<polygon clip-path=\"url(#clip00)\" points=\"\n",
       "493.044,70.177 578.063,70.177 578.063,24.817 493.044,24.817 \n",
       "  \" fill=\"#ffffff\" fill-opacity=\"1\"/>\n",
       "<polyline clip-path=\"url(#clip00)\" style=\"stroke:#00002d; stroke-width:0.8; stroke-opacity:1; fill:none\" points=\"\n",
       "  493.044,70.177 578.063,70.177 578.063,24.817 493.044,24.817 493.044,70.177 \n",
       "  \"/>\n",
       "<polyline clip-path=\"url(#clip00)\" style=\"stroke:#0099ff; stroke-width:0.8; stroke-opacity:1; fill:none\" points=\"\n",
       "  499.044,39.937 535.044,39.937 \n",
       "  \"/>\n",
       "<g clip-path=\"url(#clip00)\">\n",
       "<text style=\"fill:#00002d; fill-opacity:1; font-family:Arial,Helvetica Neue,Helvetica,sans-serif; font-size:12; text-anchor:start;\" transform=\"rotate(0, 541.044, 44.437)\" x=\"541.044\" y=\"44.437\">CoM</text>\n",
       "</g>\n",
       "<polyline clip-path=\"url(#clip00)\" style=\"stroke:#e9746a; stroke-width:0.8; stroke-opacity:1; fill:none\" points=\"\n",
       "  499.044,55.057 535.044,55.057 \n",
       "  \"/>\n",
       "<g clip-path=\"url(#clip00)\">\n",
       "<text style=\"fill:#00002d; fill-opacity:1; font-family:Arial,Helvetica Neue,Helvetica,sans-serif; font-size:12; text-anchor:start;\" transform=\"rotate(0, 541.044, 59.557)\" x=\"541.044\" y=\"59.557\">foot</text>\n",
       "</g>\n",
       "</svg>\n"
      ]
     },
     "execution_count": 205,
     "metadata": {},
     "output_type": "execute_result"
    }
   ],
   "source": [
    "q0 = 2 * (rand() - 0.5)\n",
    "v0 = 4 * (rand() - 0.5)\n",
    "qlimb0 = q0 + 2 * (rand() - 0.5)\n",
    "state = MPC.State(q0, v0, qlimb0)\n",
    "\n",
    "result = MPC.solve!(model, state)\n",
    "q = result.model.q\n",
    "qlimb = result.model.qlimb\n",
    "plt = plot(time.val, getvalue(q), label=\"CoM\", xlabel=\"time (s)\", ylabel=\"position\", ylim=(-1.1, 1.1)) \n",
    "plot!(plt, time.val, getvalue(qlimb), label=\"foot\")\n",
    "plt"
   ]
  },
  {
   "cell_type": "code",
   "execution_count": 206,
   "metadata": {
    "collapsed": false
   },
   "outputs": [
    {
     "name": "stderr",
     "output_type": "stream",
     "text": [
      "WARNING: replacing module s\n"
     ]
    },
    {
     "data": {
      "text/plain": [
       "s"
      ]
     },
     "execution_count": 206,
     "metadata": {},
     "output_type": "execute_result"
    }
   ],
   "source": [
    "module s\n",
    "\n",
    "include(\"mpc.jl\")\n",
    "using AxisArrays\n",
    "using JuMP\n",
    "\n",
    "immutable Example\n",
    "    state::MPC.State{Float64}\n",
    "    contact::AxisArray{Bool,2,Array{Bool,2},Tuple{Axis{:side,Array{Symbol,1}},Axis{:time,LinSpace{Float64}}}}\n",
    "    objective::Float64\n",
    "    vars::Dict{Symbol, Array{Float64}}\n",
    "end\n",
    "\n",
    "function sample()\n",
    "    m = 1.\n",
    "    l = 1.\n",
    "    g = 10.\n",
    "    A = [0. 1.;\n",
    "        g/l 0.]\n",
    "    B = [0. 1/(m*l^2.)]'\n",
    "    lipm = MPC.discretize(MPC.CTLinearSytstem(A, B), 0.1)\n",
    "    N = 20\n",
    "    time = Axis{:time}(linspace(0, (N - 1) * lipm.Δt, N))\n",
    "    side = Axis{:side}([:left, :right])\n",
    "    model = MPC.create_model(lipm, time, side);\n",
    "    q0 = 2 * (rand() - 0.5)\n",
    "    v0 = 4 * (rand() - 0.5)\n",
    "    qlimb0 = q0 + 2 * (rand() - 0.5)\n",
    "    state = MPC.State(q0, v0, qlimb0)\n",
    "\n",
    "    result = MPC.solve!(model, state)\n",
    "    if result.status != :Optimal\n",
    "        result = MPC.solve!(model, state, relax=true)\n",
    "    end\n",
    "    contact = map(x -> x > 0.5, getvalue(model.contact))\n",
    "    obj = getvalue(getobjective(model.m))\n",
    "    \n",
    "    Example(state, contact, obj, Dict{Symbol, Array{Float64}}((k, getvalue.(v)) for (k, v) in model.m.varDict))\n",
    "end\n",
    "\n",
    "end"
   ]
  },
  {
   "cell_type": "code",
   "execution_count": 207,
   "metadata": {
    "collapsed": false
   },
   "outputs": [
    {
     "name": "stderr",
     "output_type": "stream",
     "text": [
      "Progress: 100%|█████████████████████████████████████████| Time: 0:00:21\n"
     ]
    }
   ],
   "source": [
    "examples = @showprogress [s.sample() for i in 1:1000];"
   ]
  },
  {
   "cell_type": "code",
   "execution_count": 208,
   "metadata": {
    "collapsed": false
   },
   "outputs": [],
   "source": [
    "ex_train, ex_test = splitobs(examples, 0.5);"
   ]
  },
  {
   "cell_type": "code",
   "execution_count": 209,
   "metadata": {
    "collapsed": false
   },
   "outputs": [
    {
     "name": "stderr",
     "output_type": "stream",
     "text": [
      "WARNING: Method definition classify(Any, Any, Any) in module Main at In[115]:2 overwritten at In[209]:2.\n"
     ]
    },
    {
     "data": {
      "text/plain": [
       "classify (generic function with 1 method)"
      ]
     },
     "execution_count": 209,
     "metadata": {},
     "output_type": "execute_result"
    }
   ],
   "source": [
    "function classify(side, time, examples)\n",
    "    cls = SVC()\n",
    "    data = hcat([[e.state.q, e.state.v, e.state.qlimb] for e in examples]...)\n",
    "    labels = Float64.([e.contact[Axis{:side}(side), Axis{:time}(time)] for e in examples]);\n",
    "    if length(unique(labels)) > 1\n",
    "        fit!(cls, data', labels)\n",
    "        return cls\n",
    "    else\n",
    "        return labels[1]\n",
    "    end\n",
    "end"
   ]
  },
  {
   "cell_type": "code",
   "execution_count": 210,
   "metadata": {
    "collapsed": false
   },
   "outputs": [
    {
     "data": {
      "text/plain": [
       "2-dimensional AxisArray{Any,2,...} with axes:\n",
       "    :side, Symbol[:left,:right]\n",
       "    :time, linspace(0.0,1.9000000000000001,20)\n",
       "And data, a 2×20 Array{Any,2}:\n",
       " PyObject SVC(C=1.0, cache_size=200, class_weight=None, coef0=0.0,\n",
       "  decision_function_shape=None, degree=3, gamma='auto', kernel='rbf',\n",
       "  max_iter=-1, probability=False, random_state=None, shrinking=True,\n",
       "  tol=0.001, verbose=False)  …  0.0                                                                                                                                                                                                                                      \n",
       " PyObject SVC(C=1.0, cache_size=200, class_weight=None, coef0=0.0,\n",
       "  decision_function_shape=None, degree=3, gamma='auto', kernel='rbf',\n",
       "  max_iter=-1, probability=False, random_state=None, shrinking=True,\n",
       "  tol=0.001, verbose=False)      PyObject SVC(C=1.0, cache_size=200, class_weight=None, coef0=0.0,\n",
       "  decision_function_shape=None, degree=3, gamma='auto', kernel='rbf',\n",
       "  max_iter=-1, probability=False, random_state=None, shrinking=True,\n",
       "  tol=0.001, verbose=False)"
      ]
     },
     "execution_count": 210,
     "metadata": {},
     "output_type": "execute_result"
    }
   ],
   "source": [
    "classifiers = AxisArray([classify(side, time, ex_train) for side in [:left, :right], time in 1:N], side, time)"
   ]
  },
  {
   "cell_type": "code",
   "execution_count": 218,
   "metadata": {
    "collapsed": false
   },
   "outputs": [
    {
     "data": {
      "text/plain": [
       "s.Example(s.MPC.State{Float64}(-0.5465523921228583,-1.8700843389781996,-0.762105135540931),Bool[true true … true false; false false … false true],851.948448094682,Dict{Symbol,Array{Float64,N}}(Pair{Symbol,Array{Float64,N}}(:contact,[1.0 1.0 … 1.0 0.0; 0.0 0.0 … 0.0 1.0]),Pair{Symbol,Array{Float64,N}}(:q,[-0.546552,-0.663631,-0.674395,-0.628277,-0.555707,-0.474764,-0.395622,-0.323508,-0.26064,-0.207482,-0.163534,-0.127836,-0.0992559,-0.0766679,-0.0590426,-0.0454923,-0.0352899,-0.0281606,-0.0237381,-0.0215707]),Pair{Symbol,Array{Float64,N}}(:v,[-1.87008,-0.490969,0.273894,0.656148,0.807313,0.825021,0.770995,0.683284,0.584526,0.487492,0.398765,0.321145,0.255211,0.200305,0.155134,0.118126,0.0876182,0.0561547,0.0330322,0.0106747]),Pair{Symbol,Array{Float64,N}}(:qlimb,[-0.762105,-1.0,-1.0,-1.0,-1.0,-1.0,-1.0,-1.0,-1.0,-1.0,-1.0,-1.0,-1.0,-1.0,-1.0,-1.0,-1.0,-1.0,-1.0,-1.0]),Pair{Symbol,Array{Float64,N}}(:f,[19.9568 14.4024 … 0.00110956 -2.84217e-14; 1.42109e-14 1.42109e-14 … 0.0 -0.0])))"
      ]
     },
     "execution_count": 218,
     "metadata": {},
     "output_type": "execute_result"
    }
   ],
   "source": [
    "ex = ex_test[end]"
   ]
  },
  {
   "cell_type": "code",
   "execution_count": 219,
   "metadata": {
    "collapsed": false
   },
   "outputs": [
    {
     "data": {
      "text/plain": [
       "2×20 Array{Float64,2}:\n",
       " 1.0  1.0  1.0  1.0  1.0  1.0  1.0  1.0  …  1.0  1.0  1.0  1.0  1.0  0.0  0.0\n",
       " 0.0  0.0  0.0  0.0  0.0  0.0  0.0  0.0     0.0  0.0  0.0  0.0  0.0  0.0  1.0"
      ]
     },
     "execution_count": 219,
     "metadata": {},
     "output_type": "execute_result"
    }
   ],
   "source": [
    "[predict(c, [ex.state.q ex.state.v ex.state.qlimb])[1] for c in classifiers]"
   ]
  },
  {
   "cell_type": "code",
   "execution_count": 220,
   "metadata": {
    "collapsed": false
   },
   "outputs": [
    {
     "data": {
      "text/plain": [
       "2-dimensional AxisArray{Bool,2,...} with axes:\n",
       "    :side, Symbol[:left,:right]\n",
       "    :time, linspace(0.0,1.9000000000000001,20)\n",
       "And data, a 2×20 Array{Bool,2}:\n",
       "  true   true   true   true   true  …   true  false   true   true  false\n",
       " false  false  false  false  false     false  false  false  false   true"
      ]
     },
     "execution_count": 220,
     "metadata": {},
     "output_type": "execute_result"
    }
   ],
   "source": [
    "ex.contact"
   ]
  },
  {
   "cell_type": "code",
   "execution_count": 214,
   "metadata": {
    "collapsed": true
   },
   "outputs": [],
   "source": [
    "data = hcat([[e.state.q, e.state.v, e.state.qlimb] for e in examples]...)\n",
    "labels = Float64.([e.contact[Axis{:side}(:right), Axis{:time}(5)] for e in examples]);"
   ]
  },
  {
   "cell_type": "code",
   "execution_count": 215,
   "metadata": {
    "collapsed": false
   },
   "outputs": [],
   "source": [
    "(x_train, y_train), (x_test, y_test) = splitobs((data, labels), at=0.5);"
   ]
  },
  {
   "cell_type": "code",
   "execution_count": 216,
   "metadata": {
    "collapsed": false
   },
   "outputs": [],
   "source": [
    "\n",
    "classifier = SVC()\n",
    "fit!(classifier, x_train', y_train)\n",
    "y_predict = predict(classifier, x_test');"
   ]
  },
  {
   "cell_type": "code",
   "execution_count": 217,
   "metadata": {
    "collapsed": false
   },
   "outputs": [
    {
     "data": {
      "text/plain": [
       "0.96"
      ]
     },
     "execution_count": 217,
     "metadata": {},
     "output_type": "execute_result"
    }
   ],
   "source": [
    "mean(y_predict .== y_test)"
   ]
  },
  {
   "cell_type": "code",
   "execution_count": null,
   "metadata": {
    "collapsed": true
   },
   "outputs": [],
   "source": []
  }
 ],
 "metadata": {
  "kernelspec": {
   "display_name": "Julia 0.5.1",
   "language": "julia",
   "name": "julia-0.5"
  },
  "language_info": {
   "file_extension": ".jl",
   "mimetype": "application/julia",
   "name": "julia",
   "version": "0.5.1"
  }
 },
 "nbformat": 4,
 "nbformat_minor": 1
}
